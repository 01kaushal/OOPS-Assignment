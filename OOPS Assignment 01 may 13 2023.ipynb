{
 "cells": [
  {
   "cell_type": "markdown",
   "id": "abf5befd",
   "metadata": {},
   "source": [
    "### 1. What is the primary goal of Object-Oriented Programming (OOP)?"
   ]
  },
  {
   "cell_type": "markdown",
   "id": "9db9ac53",
   "metadata": {},
   "source": [
    "object-oriented Programming (OOPs) is a programming paradigm that uses objects and classes in programming. It aims to implement real-world entities like inheritance, polymorphisms, encapsulation, etc. in the programming. The main concept of OOPs is to bind the data and the functions that work on that together as a single unit so that no other part of the code can access this data."
   ]
  },
  {
   "cell_type": "markdown",
   "id": "cc007e5b",
   "metadata": {},
   "source": [
    "### 2. What is an object in Python?"
   ]
  },
  {
   "cell_type": "markdown",
   "id": "e763f483",
   "metadata": {},
   "source": [
    "The object is an entity that has a state and behavior associated with it. It may be any real-world object like a mouse, keyboard, chair, table, pen, etc. Integers, strings, floating-point numbers, even arrays, and dictionaries, are all objects"
   ]
  },
  {
   "cell_type": "code",
   "execution_count": 3,
   "id": "0416a52a",
   "metadata": {},
   "outputs": [
    {
     "name": "stdout",
     "output_type": "stream",
     "text": [
      "My name is Rodger\n",
      "My name is Tommy\n"
     ]
    }
   ],
   "source": [
    "class Dog:\n",
    " \n",
    "    # class attribute\n",
    "    attr1 = \"mammal\"\n",
    " \n",
    "    # Instance attribute\n",
    "    def __init__(self, name):\n",
    "        self.name = name\n",
    "        \n",
    "         \n",
    "    def speak(self):\n",
    "        \n",
    "        print('My name is',self.name)\n",
    " \n",
    "# Driver code\n",
    "# Object instantiation\n",
    "Rodger = Dog(\"Rodger\")\n",
    "Tommy = Dog(\"Tommy\")\n",
    " \n",
    "# Accessing class methods\n",
    "Rodger.speak()\n",
    "Tommy.speak()"
   ]
  },
  {
   "cell_type": "markdown",
   "id": "835f6a8e",
   "metadata": {},
   "source": [
    "### 3. What is a class in Python?"
   ]
  },
  {
   "cell_type": "markdown",
   "id": "cad06328",
   "metadata": {},
   "source": [
    "A class is a collection of objects. A class contains the blueprints or the prototype from which the objects are being created. It is a logical entity that contains some attributes and methods. "
   ]
  },
  {
   "cell_type": "markdown",
   "id": "0d13f149",
   "metadata": {},
   "source": [
    "### 4. What are attributes and methods in a class?"
   ]
  },
  {
   "cell_type": "markdown",
   "id": "fd8d724f",
   "metadata": {},
   "source": [
    "#### Attributes\n",
    "Attributes are the variables that belong to a class.\n",
    "\n",
    "#### Methods\n",
    " method in object-oriented programming is a procedure associated with a class. A method defines the behavior of the objects that are created from the class"
   ]
  },
  {
   "cell_type": "markdown",
   "id": "d25ad58b",
   "metadata": {},
   "source": [
    "### 5. What is the difference between class variables and instance variables in Python?"
   ]
  },
  {
   "cell_type": "markdown",
   "id": "933bebf9",
   "metadata": {},
   "source": [
    "Class variables are useful for storing data that is shared among all instances of a class, such as constants or default values.\n",
    "\n",
    "Instance variables are used to store data that is unique to each instance of a class, such as object properties."
   ]
  },
  {
   "cell_type": "markdown",
   "id": "e2d4ac42",
   "metadata": {},
   "source": [
    "### 6. What is the purpose of the self parameter in Python class methods?"
   ]
  },
  {
   "cell_type": "markdown",
   "id": "731570fa",
   "metadata": {},
   "source": [
    "Self represents the instance of the class. By using the “self”  we can access the attributes and methods of the class in Python. It binds the attributes with the given arguments."
   ]
  },
  {
   "cell_type": "code",
   "execution_count": 2,
   "id": "844e6a53",
   "metadata": {},
   "outputs": [
    {
     "name": "stdout",
     "output_type": "stream",
     "text": [
      "17\n"
     ]
    }
   ],
   "source": [
    "class mynumber:\n",
    "    def __init__(self, value):\n",
    "        self.value = value\n",
    "     \n",
    "    def print_value(self):\n",
    "        print(self.value)\n",
    " \n",
    "obj1 = mynumber(17)\n",
    "obj1.print_value()"
   ]
  },
  {
   "cell_type": "markdown",
   "id": "37d2a0b0",
   "metadata": {},
   "source": [
    "### 7. For a library management system, you have to design the \"Book\" class with OOP principles in mind. The “Book” class will have following attributes:\n",
    "a. title: Represents the title of the book.\n",
    "\n",
    "b. author: Represents the author(s) of the book.\n",
    "\n",
    "c. isbn: Represents the ISBN (International Standard Book Number) of the book.\n",
    "\n",
    "d. publication_year: Represents the year of publication of the book.\n",
    "\n",
    "e. available_copies: Represents the number of copies available for checkout.\n",
    "\n",
    "### The class will also include the following methods:\n",
    "a. check_out(self): Decrements the available copies by one if there are copies\n",
    "available for checkout.\n",
    "\n",
    "b. return_book(self): Increments the available copies by one when a book is\n",
    "returned.\n",
    "\n",
    "c. display_book_info(self): Displays the information about the book, including its\n",
    "attributes and the number of available copies."
   ]
  },
  {
   "cell_type": "code",
   "execution_count": 64,
   "id": "e0bda08b",
   "metadata": {},
   "outputs": [
    {
     "name": "stdout",
     "output_type": "stream",
     "text": [
      "information of book\n",
      "Title: Math \n",
      " AUTHOR :  RS Aggrawal \n",
      " ISBN :  10004 \n",
      " PUBLICATION YEAR :  2019 \n",
      " AVALIBLE COPY: 12\n",
      "After Check out Avalible book are 11\n",
      "After return Avalible book are 12\n"
     ]
    }
   ],
   "source": [
    " class Book:\n",
    "    def __init__(self,title,author,isbn,publication_year,avalible_copies):\n",
    "        self.title=title\n",
    "        self.author=author\n",
    "        self.isbn=isbn\n",
    "        self.publication_year=publication_year\n",
    "        self.avalible_copies=avalible_copies\n",
    "        \n",
    "        \n",
    "    def check_out(self):\n",
    "        if self.avalible_copies>0:\n",
    "            self.avalible_copies=self.avalible_copies-1\n",
    "            print(\"After Check out Avalible book are\",self.avalible_copies)\n",
    "        \n",
    "    def return_book(self):\n",
    "        self.avalible_copies=self.avalible_copies+1\n",
    "        print(\"After return Avalible book are\",self.avalible_copies)\n",
    "        \n",
    "    def display_book_info(self):\n",
    "        print(\"information of book\")\n",
    "        print(\"Title:\",self.title,\"\\n\",\"AUTHOR : \",self.author,\"\\n\",\"ISBN : \",self.isbn,\"\\n\",\"PUBLICATION YEAR : \",self.publication_year,\"\\n\",\"AVALIBLE COPY:\",self.avalible_copies)\n",
    "        \n",
    "        \n",
    "        \n",
    "        \n",
    "        \n",
    "\n",
    "\n",
    "book1=Book(\"Math\",\"RS Aggrawal\",10004,2019,12)\n",
    "book1.display_book_info()\n",
    "book1.check_out()\n",
    "book1.return_book()\n",
    "\n"
   ]
  },
  {
   "cell_type": "code",
   "execution_count": null,
   "id": "6af27441",
   "metadata": {},
   "outputs": [],
   "source": []
  },
  {
   "cell_type": "markdown",
   "id": "6488581a",
   "metadata": {},
   "source": [
    "### 8. For a ticket booking system, you have to design the \"Ticket\" class with OOP principles in mind. The “Ticket” class should have the following attributes:\n",
    "a. ticket_id: Represents the unique identifier for the ticket.\n",
    "\n",
    "b. event_name: Represents the name of the event.\n",
    "\n",
    "c. event_date: Represents the date of the event.\n",
    "\n",
    "d. venue: Represents the venue of the event.\n",
    "\n",
    "e. seat_number: Represents the seat number associated with the ticket.\n",
    "\n",
    "f. price: Represents the price of the ticket.\n",
    "\n",
    "g. is_reserved: Represents the reservation status of the ticket.\n",
    "\n",
    "### The class also includes the following methods:\n",
    "a. reserve_ticket(self): Marks the ticket as reserved if it is not already reserved.\n",
    "\n",
    "b. cancel_reservation(self): Cancels the reservation of the ticket if it is already\n",
    "reserved.\n",
    "\n",
    "c. display_ticket_info(self): Displays the information about the ticket, including its\n",
    "attributes and reservation status."
   ]
  },
  {
   "cell_type": "code",
   "execution_count": 76,
   "id": "5c0da18a",
   "metadata": {},
   "outputs": [
    {
     "name": "stdout",
     "output_type": "stream",
     "text": [
      "Ticket_Id:  1234 \n",
      " EVENT NAME: Tatkal-3A \n",
      " EVENT DATE: 12/02/1024 \n",
      " VENUE: Patna To Delhi \n",
      " SEAT NUMBER: M1-23 \n",
      " PRICE: 2500 \n",
      " Is Reserve: Yes\n"
     ]
    }
   ],
   "source": [
    "class Ticket:\n",
    "    def __init__(self,ticket_id,event_name,event_date,venue,seat_number,price,is_reserved):\n",
    "        self.ticket_id=ticket_id\n",
    "        self.event_name=event_name\n",
    "        self.event_date=event_date\n",
    "        self.venue=venue\n",
    "        self.price=price\n",
    "        self.seat_number=seat_number\n",
    "        self.is_reserved=is_reserved\n",
    "        \n",
    "    def reserve_ticket(self):\n",
    "        if self.is_reserved==\"No\":\n",
    "            self.is_reserved=\"Yes\"\n",
    "            print(\"Ticket Booked\")\n",
    "        print(\"Status CNF\")\n",
    "        \n",
    "            \n",
    "            \n",
    "    def cancel_reservation(self):\n",
    "        if self.is_reserved==\"Yes\":\n",
    "            self.is_reserved=\"No\"\n",
    "            print(\"Ticket Cancel\")\n",
    "            \n",
    "    def display_ticket_info(self):\n",
    "        print(\"Ticket_Id: \",self.ticket_id,\"\\n\",\"EVENT NAME:\" ,self.event_name,\"\\n\",\"EVENT DATE:\",self.event_date,\"\\n\",\"VENUE:\",self.venue,\"\\n\",\"SEAT NUMBER:\",self.seat_number,\"\\n\",\"PRICE:\",self.price,\"\\n\",\"Is Reserve:\",self.is_reserved)\n",
    "        \n",
    "            \n",
    "        \n",
    "        \n",
    "\n",
    "\n",
    "Ticket1=Ticket(\"1234\",\"Tatkal-3A\",\"12/02/1024\",\"Patna To Delhi\",\"M1-23\",\"2500\",\"Yes\")\n",
    "Ticket2=Ticket(\"1235\",\"Tatkal-3A\",\"12/02/1024\",\"Patna To Delhi\",\"M1-23\",\"2500\",\"No\")\n",
    "Ticket1.display_ticket_info()\n",
    "\n",
    "\n",
    "        "
   ]
  },
  {
   "cell_type": "code",
   "execution_count": 77,
   "id": "bc1631d0",
   "metadata": {},
   "outputs": [
    {
     "name": "stdout",
     "output_type": "stream",
     "text": [
      "Ticket_Id:  1235 \n",
      " EVENT NAME: Tatkal-3A \n",
      " EVENT DATE: 12/02/1024 \n",
      " VENUE: Patna To Delhi \n",
      " SEAT NUMBER: M1-23 \n",
      " PRICE: 2500 \n",
      " Is Reserve: No\n"
     ]
    }
   ],
   "source": [
    "Ticket2.display_ticket_info()"
   ]
  },
  {
   "cell_type": "code",
   "execution_count": 78,
   "id": "ddc1996e",
   "metadata": {},
   "outputs": [
    {
     "name": "stdout",
     "output_type": "stream",
     "text": [
      "Ticket Booked\n",
      "Status CNF\n"
     ]
    }
   ],
   "source": [
    "Ticket2.reserve_ticket()"
   ]
  },
  {
   "cell_type": "code",
   "execution_count": 79,
   "id": "764782b1",
   "metadata": {},
   "outputs": [
    {
     "name": "stdout",
     "output_type": "stream",
     "text": [
      "Ticket Cancel\n"
     ]
    }
   ],
   "source": [
    "Ticket1.cancel_reservation()"
   ]
  },
  {
   "cell_type": "code",
   "execution_count": 80,
   "id": "05a50411",
   "metadata": {},
   "outputs": [
    {
     "name": "stdout",
     "output_type": "stream",
     "text": [
      "Ticket_Id:  1234 \n",
      " EVENT NAME: Tatkal-3A \n",
      " EVENT DATE: 12/02/1024 \n",
      " VENUE: Patna To Delhi \n",
      " SEAT NUMBER: M1-23 \n",
      " PRICE: 2500 \n",
      " Is Reserve: No\n"
     ]
    }
   ],
   "source": [
    "Ticket1.display_ticket_info()"
   ]
  },
  {
   "cell_type": "markdown",
   "id": "dbf93173",
   "metadata": {},
   "source": [
    "### 9. You are creating a shopping cart for an e-commerce website. Using OOP to modelthe \"ShoppingCart\" functionality the class should contain following attributes and methods:\n",
    "\n",
    "a. items: Represents the list of items in the shopping cart.\n",
    "The class also includes the following methods:\n",
    "\n",
    "a. add_item(self, item): Adds an item to the shopping cart by appending it to the\n",
    "list of items.\n",
    "\n",
    "b. remove_item(self, item): Removes an item from the shopping cart if it exists in\n",
    "the list.\n",
    "\n",
    "c. view_cart(self): Displays the items currently present in the shopping cart.\n",
    "\n",
    "d. clear_cart(self): Clears all items from the shopping cart by reassigning an\n",
    "empty list to the items attribute."
   ]
  },
  {
   "cell_type": "code",
   "execution_count": 211,
   "id": "fabe8f77",
   "metadata": {},
   "outputs": [],
   "source": [
    "class ShoppingCart:\n",
    "    \n",
    "    items=[]\n",
    "    \n",
    "    @classmethod\n",
    "    def add_item(self, item):\n",
    "        self.items.append(item)\n",
    "        \n",
    "    def remove_item(self, item):\n",
    "        self.items.remove(item)\n",
    "        \n",
    "    def view_cart(self):\n",
    "        print(self.items)\n",
    "        \n",
    "    def clear_cart(self):\n",
    "        self.items.clear()\n",
    "    \n",
    "    \n",
    "cart1=ShoppingCart()\n",
    "                    "
   ]
  },
  {
   "cell_type": "code",
   "execution_count": 213,
   "id": "b87e65e7",
   "metadata": {},
   "outputs": [],
   "source": [
    "cart1.add_item(\"cloth\")"
   ]
  },
  {
   "cell_type": "code",
   "execution_count": 214,
   "id": "699c4fcd",
   "metadata": {},
   "outputs": [],
   "source": [
    "cart1.add_item(\"food\")\n",
    "cart1.add_item(\"Travelling\")\n",
    "cart1.add_item(\"Movies\")"
   ]
  },
  {
   "cell_type": "code",
   "execution_count": 215,
   "id": "f89ecb32",
   "metadata": {},
   "outputs": [
    {
     "data": {
      "text/plain": [
       "['cloth', 'food', 'Travelling', 'Movies']"
      ]
     },
     "execution_count": 215,
     "metadata": {},
     "output_type": "execute_result"
    }
   ],
   "source": [
    "cart1.items"
   ]
  },
  {
   "cell_type": "code",
   "execution_count": 216,
   "id": "cf3204bb",
   "metadata": {},
   "outputs": [],
   "source": [
    "cart1.remove_item(\"Travelling\")"
   ]
  },
  {
   "cell_type": "code",
   "execution_count": 217,
   "id": "62f2629c",
   "metadata": {},
   "outputs": [
    {
     "name": "stdout",
     "output_type": "stream",
     "text": [
      "['cloth', 'food', 'Movies']\n"
     ]
    }
   ],
   "source": [
    "cart1.view_cart()"
   ]
  },
  {
   "cell_type": "code",
   "execution_count": 218,
   "id": "1ddbe462",
   "metadata": {},
   "outputs": [],
   "source": [
    "cart1.clear_cart()"
   ]
  },
  {
   "cell_type": "code",
   "execution_count": 219,
   "id": "015f3dcd",
   "metadata": {},
   "outputs": [
    {
     "name": "stdout",
     "output_type": "stream",
     "text": [
      "[]\n"
     ]
    }
   ],
   "source": [
    "cart1.view_cart()"
   ]
  },
  {
   "cell_type": "code",
   "execution_count": null,
   "id": "dcd95a75",
   "metadata": {},
   "outputs": [],
   "source": []
  },
  {
   "cell_type": "markdown",
   "id": "d8e30e2a",
   "metadata": {},
   "source": [
    "### 10. Imagine a school management system. You have to design the \"Student\" class using OOP concepts.The “Student” class has the following attributes:\n",
    "a. name: Represents the name of the student.\n",
    "\n",
    "b. age: Represents the age of the student.\n",
    "\n",
    "c. grade: Represents the grade or class of the student.\n",
    "\n",
    "d. student_id: Represents the unique identifier for the student.\n",
    "\n",
    "e. attendance: Represents the attendance record of the student.\n",
    "\n",
    "### The class should also include the following methods:\n",
    "\n",
    "a. update_attendance(self, date, status): Updates the attendance record of the\n",
    "student for a given date with the provided status (e.g., present or absent).\n",
    "\n",
    "b. get_attendance(self): Returns the attendance record of the student.\n",
    "\n",
    "c. get_average_attendance(self): Calculates and returns the average\n",
    "attendance percentage of the student based on their attendance record."
   ]
  },
  {
   "cell_type": "code",
   "execution_count": 417,
   "id": "2e48f2bb",
   "metadata": {},
   "outputs": [],
   "source": [
    "class Student:\n",
    "    Attendance_record={}\n",
    "    Date=[]\n",
    "    Status=[]\n",
    "    count_present=0\n",
    "    count_absent=0\n",
    "    def __init__(self,name,age,grade,student_id):\n",
    "        self.name=name\n",
    "        self.age=age\n",
    "        self.grade=grade\n",
    "        self.student_id=student_id\n",
    "\n",
    "        ## sir for mapping attendance_record we have to give date as well as attendance other wise it will create problem so  \n",
    "        # we can remove attendance\n",
    "\n",
    "\n",
    "    def update_attendance(self, date, status):\n",
    "        if status.capitalize() == \"P\":\n",
    "            self.count_present=self.count_present+1   \n",
    "        self.count_absent=self.count_absent+1\n",
    "        \n",
    "        self.Date.append(date)\n",
    "        self.Status.append(status)\n",
    "        for Date,Status in zip(date,status):\n",
    "            self.Attendance_record[date]=status\n",
    "\n",
    "\n",
    "        \n",
    "        \n",
    "    def get_attendance(self):\n",
    "\n",
    "        print(\"Attendance:\",self.Attendance_record)\n",
    "        \n",
    "        \n",
    "    def get_average_attendance(self):\n",
    "        total_day=self.count_present+self.count_absent\n",
    "        average=(self.count_present / total_day)*100\n",
    "        print(\"Average\",average)\n",
    "    \n",
    "        "
   ]
  },
  {
   "cell_type": "code",
   "execution_count": null,
   "id": "2d2693e2",
   "metadata": {},
   "outputs": [],
   "source": []
  },
  {
   "cell_type": "code",
   "execution_count": 418,
   "id": "b52fbe56",
   "metadata": {},
   "outputs": [],
   "source": [
    "student1=Student(\"Kaushal\",\"23\",\"A\",\"191121101036\")"
   ]
  },
  {
   "cell_type": "code",
   "execution_count": null,
   "id": "65a00a66",
   "metadata": {},
   "outputs": [],
   "source": []
  },
  {
   "cell_type": "code",
   "execution_count": 419,
   "id": "00248493",
   "metadata": {},
   "outputs": [],
   "source": [
    "student1.update_attendance(\"21/03/2023\",\"P\") \n",
    "student1.update_attendance(\"22/03/2023\",\"P\") \n",
    "student1.update_attendance(\"23/03/2023\",\"P\") \n",
    "student1.update_attendance(\"24/03/2023\",\"A\") "
   ]
  },
  {
   "cell_type": "code",
   "execution_count": 420,
   "id": "2c603a2e",
   "metadata": {},
   "outputs": [
    {
     "name": "stdout",
     "output_type": "stream",
     "text": [
      "Attendance: {'21/03/2023': 'P', '22/03/2023': 'P', '23/03/2023': 'P', '24/03/2023': 'A'}\n"
     ]
    }
   ],
   "source": [
    "student1.get_attendance()"
   ]
  },
  {
   "cell_type": "code",
   "execution_count": 421,
   "id": "00ada3f0",
   "metadata": {},
   "outputs": [
    {
     "name": "stdout",
     "output_type": "stream",
     "text": [
      "Average 42.857142857142854\n"
     ]
    }
   ],
   "source": [
    "student1.get_average_attendance()"
   ]
  },
  {
   "cell_type": "code",
   "execution_count": null,
   "id": "1b1d7812",
   "metadata": {},
   "outputs": [],
   "source": []
  }
 ],
 "metadata": {
  "kernelspec": {
   "display_name": "Python 3 (ipykernel)",
   "language": "python",
   "name": "python3"
  },
  "language_info": {
   "codemirror_mode": {
    "name": "ipython",
    "version": 3
   },
   "file_extension": ".py",
   "mimetype": "text/x-python",
   "name": "python",
   "nbconvert_exporter": "python",
   "pygments_lexer": "ipython3",
   "version": "3.9.12"
  }
 },
 "nbformat": 4,
 "nbformat_minor": 5
}
